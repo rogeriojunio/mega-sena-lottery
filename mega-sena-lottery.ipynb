{
 "cells": [
  {
   "cell_type": "markdown",
   "metadata": {},
   "source": [
    "# Análise de dados da Mega-Sena\n",
    "### Usando conhecimentos de Estatística para validar comportamentos da Mega-Sena\n",
    "##### Elaborado por Rogério Silva "
   ]
  },
  {
   "cell_type": "markdown",
   "metadata": {},
   "source": [
    "## Objetivo"
   ]
  },
  {
   "cell_type": "markdown",
   "metadata": {},
   "source": [
    "A Mega-Sena é um dos diversos sorteios disponibilizados pela Caixa, realiza concursos desde 1996 e paga milhões de reais para o jogador que acertar a sequência de seis números dentre as 60 opções disponíveis. O objetivo deste material é verificar se os conceitos de Estatística são observados na loteria da Mega-Sena.\n",
    "\n",
    "Para isso, é valido relembrar os conceitos matemáticos que gostaríamos de validar e, na sequência, compará-los com os números da Mega que saíram ao longo dos anos.\n",
    "\n",
    "Link da Mega-Sena: https://loterias.caixa.gov.br/Paginas/Mega-Sena.aspx"
   ]
  },
  {
   "cell_type": "markdown",
   "metadata": {},
   "source": [
    "## Conceitos básicos"
   ]
  },
  {
   "cell_type": "markdown",
   "metadata": {},
   "source": [
    "### Estatística\n",
    "\n",
    "Estatística é a ciência que estuda os métodos de coleta, análise, organização, descrição, interpretação e apresentação de dados experimentais. Esses dados são obtidos com o intuito de responder problemas do mundo real.\n",
    "\n",
    "Áreas da estatística:\n",
    "1. Estatística descritiva: voltada para a organização e descrição dos dados.\n",
    "2. Probabilidade: útil para avaliar situações que envolvem o acaso.\n",
    "3. Inferência: refere-se à analise e interpretação dos dados."
   ]
  },
  {
   "cell_type": "markdown",
   "metadata": {},
   "source": [
    "### Tipos de dados estatísticos\n",
    "\n",
    "Existem uma variedade de dados que são analisados na Estatística, para o nosso estudo focaremos nos dados **QUANTITATIVOS** e **DISCRETOS**. \n",
    "\n",
    "![tipos_dados](https://analisemacro.com.br/wp-content/uploads/2023/05/tipos_variaveis.png)"
   ]
  },
  {
   "cell_type": "markdown",
   "metadata": {},
   "source": [
    "### Teorema do limite central\n",
    "\n",
    "texto"
   ]
  },
  {
   "cell_type": "markdown",
   "metadata": {},
   "source": [
    "### Regras da Mega-Sena\n",
    "\n",
    "Para o sorteio dos 6 números da Mega-Sena é utilizado 1 globo, carregado com bolas numeradas de 01 a 60. Os globos utilizados são fabricados em acrílico, favorecendo a transparência do funcionamento, embaralhamento e sorteio das bolas que são coloridas e cada terminação possui uma cor, para melhor identificação (número 1 vermelhas, número 2 amarelas, número 3 verdes, número 4 marrons, número 5 azuis, número 6 rosas, número 7 pretas, número 8 cinzas, número 9 laranjas e as terminadas em 0 (zero) são brancas).\n",
    "\n",
    "Ao final do sorteio, 2 voluntários representantes do público, alfabetizados, maiores de idade, munidos de documento de identificação, apresentando evidentes condições físicas e psíquicas, que não sejam empregados da CAIXA ou Empresários Lotéricos, são responsáveis pela validação de todos os procedimentos dos sorteios.\n",
    "\n",
    "Assista um [vídeo do sorteio](https://www.youtube.com/watch?v=Q3vCc_-zRhA)."
   ]
  },
  {
   "cell_type": "markdown",
   "metadata": {},
   "source": [
    "## Simulação de sorteios da Mega-Sena"
   ]
  },
  {
   "cell_type": "markdown",
   "metadata": {},
   "source": [
    "A partir dos conceitos destacados no tópico anterior, utilizaremos o Python como ferramenta de simulação de n jogos da Mega-Sena. Utilizaremos as bibliotecas `random` e `numpy` para gerar os números aleatórios de cada sorteio."
   ]
  },
  {
   "cell_type": "code",
   "execution_count": 1,
   "metadata": {},
   "outputs": [
    {
     "name": "stdout",
     "output_type": "stream",
     "text": [
      "Este são os números possíveis para o sorteio: \n",
      "[ 1  2  3  4  5  6  7  8  9 10 11 12 13 14 15 16 17 18 19 20 21 22 23 24\n",
      " 25 26 27 28 29 30 31 32 33 34 35 36 37 38 39 40 41 42 43 44 45 46 47 48\n",
      " 49 50 51 52 53 54 55 56 57 58 59 60]\n"
     ]
    }
   ],
   "source": [
    "import random \n",
    "import numpy as np\n",
    "\n",
    "numeros = np.array(range(1,61))\n",
    "print(f'Este são os números possíveis para o sorteio: \\n{numeros}')"
   ]
  },
  {
   "cell_type": "code",
   "execution_count": 2,
   "metadata": {},
   "outputs": [
    {
     "name": "stdout",
     "output_type": "stream",
     "text": [
      "A simulação contará com 60 números sequenciais, a partir de 1 até 60.\n",
      "A média do valores possíveis é 30.50, o desvio padrão é 17.32 e a variância é 299.92\n"
     ]
    }
   ],
   "source": [
    "menor_num = min(numeros)\n",
    "maior_num = max(numeros)\n",
    "contagem_num = len(numeros)\n",
    "soma_num = sum(numeros)\n",
    "media_num = np.mean(numeros)\n",
    "std_num = np.std(numeros)\n",
    "var_num = np.var(numeros)\n",
    "\n",
    "print(f'A simulação contará com {contagem_num} números sequenciais, a partir de {menor_num} até {maior_num}.')\n",
    "print(f'A média do valores possíveis é {media_num :.2f}, o desvio padrão é {std_num :.2f} e a variância é {var_num:.2f}')"
   ]
  },
  {
   "cell_type": "code",
   "execution_count": null,
   "metadata": {},
   "outputs": [],
   "source": [
    "import plotly.graph_objects as go\n",
    "\n",
    "fig_ = go.Figure()\n",
    "fig_.add_trace(go.Histogram(x=numeros, nbinsx=60))\n",
    "fig_.update_layout(title_text=\"Mais uma forma de mostrar que todos os números de 1 a 60 estão listados e só existe uma ocorrência de cada\", showlegend=False)\n",
    "fig_.show()"
   ]
  },
  {
   "cell_type": "markdown",
   "metadata": {},
   "source": [
    "Utilizando as mesmas bibliotecas, conseguimos simular um sorteio sem repetições."
   ]
  },
  {
   "cell_type": "code",
   "execution_count": 4,
   "metadata": {},
   "outputs": [
    {
     "data": {
      "text/plain": [
       "[20, 26, 38, 47, 53, 55]"
      ]
     },
     "execution_count": 4,
     "metadata": {},
     "output_type": "execute_result"
    }
   ],
   "source": [
    "sorted(random.sample(list(numeros), 6))"
   ]
  },
  {
   "cell_type": "markdown",
   "metadata": {},
   "source": [
    "Agora, vamos simular um número crescente de sorteios e avaliar seu comportamento na sequência."
   ]
  },
  {
   "cell_type": "code",
   "execution_count": 5,
   "metadata": {},
   "outputs": [],
   "source": [
    "def simular_sorteios(lista, num, qtd_sorteios):\n",
    "    sorteios = []\n",
    "    soma_num = []\n",
    "    media_num = []\n",
    "    std_num = []\n",
    "    for i in range(qtd_sorteios):\n",
    "        numeros_sorteados = sorted(random.sample(lista, num))\n",
    "        sorteios.extend(numeros_sorteados)\n",
    "        soma_num.append(np.sum(numeros_sorteados))\n",
    "        media_num.append(np.mean(numeros_sorteados))\n",
    "        std_num.append(np.std(numeros_sorteados))\n",
    "    return sorteios, soma_num, media_num, std_num"
   ]
  },
  {
   "cell_type": "code",
   "execution_count": 6,
   "metadata": {},
   "outputs": [],
   "source": [
    "sorteio10, soma10, media10, std10 = simular_sorteios(list(numeros), 6, 10)\n",
    "sorteio100, soma100, media100, std100 = simular_sorteios(list(numeros), 6, 100)\n",
    "sorteio1000, soma1000, media1000, std1000 = simular_sorteios(list(numeros), 6, 1000)\n",
    "sorteio10000, soma10000, media10000, std10000 = simular_sorteios(list(numeros), 6, 10000)\n",
    "sorteio100000, soma100000, media100000, std100000 = simular_sorteios(list(numeros), 6, 100000)\n",
    "sorteio1000000, soma1000000, media1000000, std1000000 = simular_sorteios(list(numeros), 6, 1000000)"
   ]
  },
  {
   "cell_type": "code",
   "execution_count": 7,
   "metadata": {},
   "outputs": [],
   "source": [
    "experimentos = [sorteio10, sorteio100, sorteio1000, sorteio10000, sorteio100000, sorteio1000000]"
   ]
  },
  {
   "cell_type": "code",
   "execution_count": null,
   "metadata": {},
   "outputs": [],
   "source": [
    "from plotly.subplots import make_subplots\n",
    "import plotly.graph_objects as go\n",
    "\n",
    "titulos = [\n",
    "    '10 sorteios', '10.000 sorteios', \n",
    "    '100 sorteios', '100.000 sorteios', \n",
    "    '1.000 sorteios', '1.000.000 sorteios'\n",
    "    ]\n",
    "fig = make_subplots(rows=3, cols=2, subplot_titles=titulos)\n",
    "for exp in enumerate(experimentos):\n",
    "    linha = (exp[0]%3) + 1\n",
    "    coluna = (exp[0]//3) + 1\n",
    "    fig.add_trace(go.Histogram(x=exp[1], nbinsx=60),row=linha, col=coluna)\n",
    "\n",
    "fig.update_layout(height=600, width=950, title_text=\"Simulação crescente de sorteio da Mega-Sena\", showlegend=False)\n",
    "fig.show()"
   ]
  },
  {
   "cell_type": "markdown",
   "metadata": {},
   "source": [
    "A medida que crescemos a quantidade de jogos, mais uniforme fica a distribuição. Logo, não existe maior probabilidade de um grupo de números ser escolhido, a probabilidade é igual para todas 60 opções da cartela."
   ]
  },
  {
   "cell_type": "markdown",
   "metadata": {},
   "source": [
    "#### Coleta dos dados brutos"
   ]
  },
  {
   "cell_type": "markdown",
   "metadata": {},
   "source": [
    "Não são necessários grandes esforços para a coleta das informações, pois a própria Caixa disponibiliza os dados dos sorteios no site, oferecendo inclusive um link para baixar em formato Excel o histórico completo dos resultados."
   ]
  },
  {
   "cell_type": "markdown",
   "metadata": {},
   "source": [
    "Caso seja do interesse automatizar essa etapa, fica como sugestão o uso da biblioteca Selenium para baixar o arquivo e salvar no local adequado."
   ]
  },
  {
   "cell_type": "code",
   "execution_count": 9,
   "metadata": {},
   "outputs": [],
   "source": [
    "import pandas as pd\n",
    "\n",
    "df_ms = pd.read_excel('Mega-Sena.xlsx')"
   ]
  },
  {
   "cell_type": "code",
   "execution_count": 10,
   "metadata": {},
   "outputs": [
    {
     "data": {
      "text/html": [
       "<div>\n",
       "<style scoped>\n",
       "    .dataframe tbody tr th:only-of-type {\n",
       "        vertical-align: middle;\n",
       "    }\n",
       "\n",
       "    .dataframe tbody tr th {\n",
       "        vertical-align: top;\n",
       "    }\n",
       "\n",
       "    .dataframe thead th {\n",
       "        text-align: right;\n",
       "    }\n",
       "</style>\n",
       "<table border=\"1\" class=\"dataframe\">\n",
       "  <thead>\n",
       "    <tr style=\"text-align: right;\">\n",
       "      <th></th>\n",
       "      <th>Concurso</th>\n",
       "      <th>Data do Sorteio</th>\n",
       "      <th>Bola1</th>\n",
       "      <th>Bola2</th>\n",
       "      <th>Bola3</th>\n",
       "      <th>Bola4</th>\n",
       "      <th>Bola5</th>\n",
       "      <th>Bola6</th>\n",
       "      <th>Ganhadores 6 acertos</th>\n",
       "      <th>Cidade / UF</th>\n",
       "      <th>Rateio 6 acertos</th>\n",
       "      <th>Ganhadores 5 acertos</th>\n",
       "      <th>Rateio 5 acertos</th>\n",
       "      <th>Ganhadores 4 acertos</th>\n",
       "      <th>Rateio 4 acertos</th>\n",
       "      <th>Acumulado 6 acertos</th>\n",
       "      <th>Arrecadação Total</th>\n",
       "      <th>Estimativa prêmio</th>\n",
       "      <th>Acumulado Sorteio Especial Mega da Virada</th>\n",
       "      <th>Observação</th>\n",
       "    </tr>\n",
       "  </thead>\n",
       "  <tbody>\n",
       "    <tr>\n",
       "      <th>0</th>\n",
       "      <td>1</td>\n",
       "      <td>11/03/1996</td>\n",
       "      <td>4</td>\n",
       "      <td>5</td>\n",
       "      <td>30</td>\n",
       "      <td>33</td>\n",
       "      <td>41</td>\n",
       "      <td>52</td>\n",
       "      <td>0</td>\n",
       "      <td>NaN</td>\n",
       "      <td>R$0,00</td>\n",
       "      <td>17</td>\n",
       "      <td>R$39.158,92</td>\n",
       "      <td>2016</td>\n",
       "      <td>R$330,21</td>\n",
       "      <td>R$1.714.650,23</td>\n",
       "      <td>R$0,00</td>\n",
       "      <td>R$0,00</td>\n",
       "      <td>R$0,00</td>\n",
       "      <td>NaN</td>\n",
       "    </tr>\n",
       "    <tr>\n",
       "      <th>1</th>\n",
       "      <td>2</td>\n",
       "      <td>18/03/1996</td>\n",
       "      <td>9</td>\n",
       "      <td>37</td>\n",
       "      <td>39</td>\n",
       "      <td>41</td>\n",
       "      <td>43</td>\n",
       "      <td>49</td>\n",
       "      <td>1</td>\n",
       "      <td>PR</td>\n",
       "      <td>R$2.307.162,23</td>\n",
       "      <td>65</td>\n",
       "      <td>R$14.424,02</td>\n",
       "      <td>4488</td>\n",
       "      <td>R$208,91</td>\n",
       "      <td>R$0,00</td>\n",
       "      <td>R$0,00</td>\n",
       "      <td>R$0,00</td>\n",
       "      <td>R$0,00</td>\n",
       "      <td>NaN</td>\n",
       "    </tr>\n",
       "    <tr>\n",
       "      <th>2</th>\n",
       "      <td>3</td>\n",
       "      <td>25/03/1996</td>\n",
       "      <td>10</td>\n",
       "      <td>11</td>\n",
       "      <td>29</td>\n",
       "      <td>30</td>\n",
       "      <td>36</td>\n",
       "      <td>47</td>\n",
       "      <td>2</td>\n",
       "      <td>RN; \\nSP</td>\n",
       "      <td>R$391.192,51</td>\n",
       "      <td>62</td>\n",
       "      <td>R$10.515,93</td>\n",
       "      <td>4261</td>\n",
       "      <td>R$153,01</td>\n",
       "      <td>R$0,00</td>\n",
       "      <td>R$0,00</td>\n",
       "      <td>R$0,00</td>\n",
       "      <td>R$0,00</td>\n",
       "      <td>NaN</td>\n",
       "    </tr>\n",
       "    <tr>\n",
       "      <th>3</th>\n",
       "      <td>4</td>\n",
       "      <td>01/04/1996</td>\n",
       "      <td>1</td>\n",
       "      <td>5</td>\n",
       "      <td>6</td>\n",
       "      <td>27</td>\n",
       "      <td>42</td>\n",
       "      <td>59</td>\n",
       "      <td>0</td>\n",
       "      <td>NaN</td>\n",
       "      <td>R$0,00</td>\n",
       "      <td>39</td>\n",
       "      <td>R$15.322,24</td>\n",
       "      <td>3311</td>\n",
       "      <td>R$180,48</td>\n",
       "      <td>R$717.080,75</td>\n",
       "      <td>R$0,00</td>\n",
       "      <td>R$0,00</td>\n",
       "      <td>R$0,00</td>\n",
       "      <td>NaN</td>\n",
       "    </tr>\n",
       "    <tr>\n",
       "      <th>4</th>\n",
       "      <td>5</td>\n",
       "      <td>08/04/1996</td>\n",
       "      <td>1</td>\n",
       "      <td>2</td>\n",
       "      <td>6</td>\n",
       "      <td>16</td>\n",
       "      <td>19</td>\n",
       "      <td>46</td>\n",
       "      <td>0</td>\n",
       "      <td>NaN</td>\n",
       "      <td>R$0,00</td>\n",
       "      <td>98</td>\n",
       "      <td>R$5.318,10</td>\n",
       "      <td>5399</td>\n",
       "      <td>R$96,53</td>\n",
       "      <td>R$1.342.488,85</td>\n",
       "      <td>R$0,00</td>\n",
       "      <td>R$0,00</td>\n",
       "      <td>R$0,00</td>\n",
       "      <td>NaN</td>\n",
       "    </tr>\n",
       "  </tbody>\n",
       "</table>\n",
       "</div>"
      ],
      "text/plain": [
       "   Concurso Data do Sorteio  Bola1  Bola2  Bola3  Bola4  Bola5  Bola6  \\\n",
       "0         1      11/03/1996      4      5     30     33     41     52   \n",
       "1         2      18/03/1996      9     37     39     41     43     49   \n",
       "2         3      25/03/1996     10     11     29     30     36     47   \n",
       "3         4      01/04/1996      1      5      6     27     42     59   \n",
       "4         5      08/04/1996      1      2      6     16     19     46   \n",
       "\n",
       "   Ganhadores 6 acertos Cidade / UF Rateio 6 acertos  Ganhadores 5 acertos  \\\n",
       "0                     0         NaN           R$0,00                    17   \n",
       "1                     1          PR   R$2.307.162,23                    65   \n",
       "2                     2    RN; \\nSP     R$391.192,51                    62   \n",
       "3                     0         NaN           R$0,00                    39   \n",
       "4                     0         NaN           R$0,00                    98   \n",
       "\n",
       "  Rateio 5 acertos  Ganhadores 4 acertos Rateio 4 acertos Acumulado 6 acertos  \\\n",
       "0      R$39.158,92                  2016         R$330,21      R$1.714.650,23   \n",
       "1      R$14.424,02                  4488         R$208,91              R$0,00   \n",
       "2      R$10.515,93                  4261         R$153,01              R$0,00   \n",
       "3      R$15.322,24                  3311         R$180,48        R$717.080,75   \n",
       "4       R$5.318,10                  5399          R$96,53      R$1.342.488,85   \n",
       "\n",
       "  Arrecadação Total Estimativa prêmio  \\\n",
       "0            R$0,00            R$0,00   \n",
       "1            R$0,00            R$0,00   \n",
       "2            R$0,00            R$0,00   \n",
       "3            R$0,00            R$0,00   \n",
       "4            R$0,00            R$0,00   \n",
       "\n",
       "  Acumulado Sorteio Especial Mega da Virada Observação  \n",
       "0                                    R$0,00        NaN  \n",
       "1                                    R$0,00        NaN  \n",
       "2                                    R$0,00        NaN  \n",
       "3                                    R$0,00        NaN  \n",
       "4                                    R$0,00        NaN  "
      ]
     },
     "execution_count": 10,
     "metadata": {},
     "output_type": "execute_result"
    }
   ],
   "source": [
    "df_ms.head()"
   ]
  },
  {
   "cell_type": "markdown",
   "metadata": {},
   "source": [
    "#### Dicionário de dados"
   ]
  },
  {
   "cell_type": "markdown",
   "metadata": {},
   "source": [
    "Colunas:\n",
    "\n",
    "- Concurso: número sequencial que identifica o concurso\n",
    "- Data do Sorteio: data da realização do concurso\n",
    "- Bola1, Bola2, Bola3, Bola4, Bola5, Bola6: números sorteados em ordem crescente\n",
    "- Ganhadores 6 acertos: número de jogares que acertaram os seis números do sorteio\n",
    "- Cidade/UF: Localidade onde o jogador vencedor jogou\n",
    "- Rateio 6 acertos"
   ]
  },
  {
   "cell_type": "code",
   "execution_count": 11,
   "metadata": {},
   "outputs": [
    {
     "data": {
      "text/plain": [
       "0.10444001920746823"
      ]
     },
     "execution_count": 11,
     "metadata": {},
     "output_type": "execute_result"
    }
   ],
   "source": [
    "(1/60)+(1/59)+(1/58)+(1/57)+(1/56)+(1/55)"
   ]
  },
  {
   "cell_type": "code",
   "execution_count": 12,
   "metadata": {},
   "outputs": [
    {
     "data": {
      "text/plain": [
       "0.09419743782969103"
      ]
     },
     "execution_count": 12,
     "metadata": {},
     "output_type": "execute_result"
    }
   ],
   "source": [
    "250/2654"
   ]
  },
  {
   "cell_type": "markdown",
   "metadata": {},
   "source": [
    "#### Tratamento dos dados "
   ]
  },
  {
   "cell_type": "markdown",
   "metadata": {},
   "source": [
    "A base disponibilizada é bem confiável e não consta valores acidentais ou valores nulos no dataset já que existe um compromisso do processo ser auditável.\n",
    "\n",
    "Ufa! Essa etapa será basicamente transformar os dados para o tipo ideal."
   ]
  },
  {
   "cell_type": "code",
   "execution_count": 13,
   "metadata": {},
   "outputs": [
    {
     "name": "stdout",
     "output_type": "stream",
     "text": [
      "<class 'pandas.core.frame.DataFrame'>\n",
      "RangeIndex: 2654 entries, 0 to 2653\n",
      "Data columns (total 20 columns):\n",
      " #   Column                                     Non-Null Count  Dtype \n",
      "---  ------                                     --------------  ----- \n",
      " 0   Concurso                                   2654 non-null   int64 \n",
      " 1   Data do Sorteio                            2654 non-null   object\n",
      " 2   Bola1                                      2654 non-null   int64 \n",
      " 3   Bola2                                      2654 non-null   int64 \n",
      " 4   Bola3                                      2654 non-null   int64 \n",
      " 5   Bola4                                      2654 non-null   int64 \n",
      " 6   Bola5                                      2654 non-null   int64 \n",
      " 7   Bola6                                      2654 non-null   int64 \n",
      " 8   Ganhadores 6 acertos                       2654 non-null   int64 \n",
      " 9   Cidade / UF                                577 non-null    object\n",
      " 10  Rateio 6 acertos                           2654 non-null   object\n",
      " 11  Ganhadores 5 acertos                       2654 non-null   int64 \n",
      " 12  Rateio 5 acertos                           2654 non-null   object\n",
      " 13  Ganhadores 4 acertos                       2654 non-null   int64 \n",
      " 14  Rateio 4 acertos                           2654 non-null   object\n",
      " 15  Acumulado 6 acertos                        2654 non-null   object\n",
      " 16  Arrecadação Total                          2654 non-null   object\n",
      " 17  Estimativa prêmio                          2654 non-null   object\n",
      " 18  Acumulado Sorteio Especial Mega da Virada  2654 non-null   object\n",
      " 19  Observação                                 894 non-null    object\n",
      "dtypes: int64(10), object(10)\n",
      "memory usage: 414.8+ KB\n"
     ]
    }
   ],
   "source": [
    "df_ms.info()"
   ]
  },
  {
   "cell_type": "code",
   "execution_count": 14,
   "metadata": {},
   "outputs": [],
   "source": [
    "df1 = df_ms[['Bola1', 'Bola2', 'Bola3', 'Bola4', 'Bola5', 'Bola6']].melt()"
   ]
  },
  {
   "cell_type": "code",
   "execution_count": 15,
   "metadata": {},
   "outputs": [
    {
     "data": {
      "text/plain": [
       "<Axes: >"
      ]
     },
     "execution_count": 15,
     "metadata": {},
     "output_type": "execute_result"
    },
    {
     "data": {
      "image/png": "[encoded data removed]",
      "text/plain": [
       "<Figure size 640x480 with 1 Axes>"
      ]
     },
     "metadata": {},
     "output_type": "display_data"
    }
   ],
   "source": [
    "df1['value'].hist(bins=60)"
   ]
  },
  {
   "cell_type": "code",
   "execution_count": 16,
   "metadata": {},
   "outputs": [
    {
     "data": {
      "text/plain": [
       "value    60\n",
       "dtype: int64"
      ]
     },
     "execution_count": 16,
     "metadata": {},
     "output_type": "execute_result"
    }
   ],
   "source": [
    "df1[['value']].nunique()"
   ]
  },
  {
   "cell_type": "code",
   "execution_count": 17,
   "metadata": {},
   "outputs": [],
   "source": [
    "df_ms['media'] = df_ms[['Bola1', 'Bola2', 'Bola3', 'Bola4', 'Bola5', 'Bola6']].apply(lambda x: sum(x)/6, axis=1)"
   ]
  },
  {
   "cell_type": "code",
   "execution_count": 18,
   "metadata": {},
   "outputs": [
    {
     "data": {
      "text/plain": [
       "array([[<Axes: title={'center': 'media'}>]], dtype=object)"
      ]
     },
     "execution_count": 18,
     "metadata": {},
     "output_type": "execute_result"
    },
    {
     "data": {
      "image/png": "[encoded data removed]",
      "text/plain": [
       "<Figure size 640x480 with 1 Axes>"
      ]
     },
     "metadata": {},
     "output_type": "display_data"
    }
   ],
   "source": [
    "df_ms[['media']].hist()"
   ]
  },
  {
   "cell_type": "code",
   "execution_count": 19,
   "metadata": {},
   "outputs": [],
   "source": [
    "df_ms['soma'] = df_ms[['Bola1', 'Bola2', 'Bola3', 'Bola4', 'Bola5', 'Bola6']].apply(lambda x: sum(x), axis=1)"
   ]
  },
  {
   "cell_type": "code",
   "execution_count": 20,
   "metadata": {},
   "outputs": [
    {
     "data": {
      "text/plain": [
       "array([[<Axes: title={'center': 'soma'}>]], dtype=object)"
      ]
     },
     "execution_count": 20,
     "metadata": {},
     "output_type": "execute_result"
    },
    {
     "data": {
      "image/png": "[encoded data removed]",
      "text/plain": [
       "<Figure size 640x480 with 1 Axes>"
      ]
     },
     "metadata": {},
     "output_type": "display_data"
    }
   ],
   "source": [
    "df_ms[['soma']].hist()"
   ]
  }
 ],
 "metadata": {
  "kernelspec": {
   "display_name": "base",
   "language": "python",
   "name": "python3"
  },
  "language_info": {
   "codemirror_mode": {
    "name": "ipython",
    "version": 3
   },
   "file_extension": ".py",
   "mimetype": "text/x-python",
   "name": "python",
   "nbconvert_exporter": "python",
   "pygments_lexer": "ipython3",
   "version": "3.9.18"
  }
 },
 "nbformat": 4,
 "nbformat_minor": 2
}
